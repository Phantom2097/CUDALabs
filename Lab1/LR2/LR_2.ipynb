{
 "cells": [
  {
   "cell_type": "code",
   "id": "initial_id",
   "metadata": {
    "collapsed": true,
    "ExecuteTime": {
     "end_time": "2024-11-11T12:20:26.843382Z",
     "start_time": "2024-11-11T12:20:26.840649Z"
    }
   },
   "source": [
    "from __future__ import division\n",
    "import numpy as np\n",
    "from pycuda.compiler import DynamicSourceModule\n",
    "import pycuda.autoinit\n",
    "from pycuda import gpuarray\n",
    "from random import shuffle, randint\n",
    "import pycuda.driver as cuda\n",
    "from pycuda.compiler import SourceModule"
   ],
   "outputs": [],
   "execution_count": 1381
  },
  {
   "metadata": {
    "ExecuteTime": {
     "end_time": "2024-11-11T12:20:26.851007Z",
     "start_time": "2024-11-11T12:20:26.846395Z"
    }
   },
   "cell_type": "code",
   "source": [
    "from random import Random\n",
    "size = 121\n",
    "min_element = 0\n",
    "max_element = 150\n",
    "mas = np.random.randint(min_element, max_element, size, dtype=np.int32)\n",
    "\n",
    "# shuffle(mas)\n",
    "mas = np.int32(mas)\n",
    "gpu_mas = gpuarray.to_gpu(mas)"
   ],
   "id": "f5473d2fe3a12d4e",
   "outputs": [],
   "execution_count": 1382
  },
  {
   "metadata": {
    "ExecuteTime": {
     "end_time": "2024-11-11T12:20:26.874042Z",
     "start_time": "2024-11-11T12:20:26.859487Z"
    }
   },
   "cell_type": "code",
   "source": [
    "ker = DynamicSourceModule(\"\"\"\n",
    "__global__ void shaker_sort_ker(int *mas, int low, int high, int *depth, int current_depth) {\n",
    "    cudaStream_t stream; \n",
    "    cudaStreamCreateWithFlags(&stream, cudaStreamNonBlocking);\n",
    "    \n",
    "    if (current_depth > *depth) {\n",
    "        *depth = current_depth;\n",
    "    }\n",
    "    \n",
    "    for (int i = low; i < high; i++) {\n",
    "        if (mas[i] > mas[i + 1]) {\n",
    "            int temp = mas[i];\n",
    "            mas[i] = mas[i + 1];\n",
    "            mas[i + 1] = temp;\n",
    "        }\n",
    "    }\n",
    "\n",
    "    for (int i = high; i > low; i--) {\n",
    "        if (mas[i] < mas[i - 1]) {\n",
    "            int temp = mas[i];\n",
    "            mas[i] = mas[i - 1];\n",
    "            mas[i - 1] = temp;\n",
    "        }\n",
    "    }\n",
    "\n",
    "    if (low < high) {\n",
    "        shaker_sort_ker <<< 1, 1, 0, stream >>>(mas, low + 1, high - 1, depth, current_depth + 1);\n",
    "    }\n",
    "\n",
    "    cudaStreamDestroy(stream);\n",
    "}\n",
    "\"\"\")\n",
    "\n",
    "krnl = ker.get_function('shaker_sort_ker')\n"
   ],
   "id": "ba0959ac77501cc8",
   "outputs": [],
   "execution_count": 1383
  },
  {
   "metadata": {
    "ExecuteTime": {
     "end_time": "2024-11-11T12:20:26.884514Z",
     "start_time": "2024-11-11T12:20:26.882182Z"
    }
   },
   "cell_type": "code",
   "source": "depth = np.zeros(1, dtype=np.int32)",
   "id": "bc4dfcf617d80c64",
   "outputs": [],
   "execution_count": 1384
  },
  {
   "metadata": {
    "ExecuteTime": {
     "end_time": "2024-11-11T12:20:26.903336Z",
     "start_time": "2024-11-11T12:20:26.891522Z"
    }
   },
   "cell_type": "code",
   "source": [
    "print(f'Array: {list(mas)}')\n",
    "krnl(gpu_mas, np.int32(0), np.int32(mas.size - 1), cuda.InOut(depth), np.int32(1), grid=(1,1,1), block=(1,1,1))\n",
    "print(f'Result: {list(gpu_mas.get())}')\n",
    "\n",
    "# cuda.memcpy_dtoh(count, gpu_count)\n",
    "\n",
    "print(f'Depth: {depth[0]}')"
   ],
   "id": "ed6a56a629cf49df",
   "outputs": [
    {
     "name": "stdout",
     "output_type": "stream",
     "text": [
      "Array: [61, 58, 137, 148, 41, 121, 122, 90, 122, 20, 50, 134, 135, 24, 66, 44, 100, 63, 2, 70, 107, 148, 114, 123, 56, 1, 120, 46, 118, 63, 102, 78, 138, 5, 42, 91, 25, 118, 19, 6, 125, 38, 143, 13, 92, 1, 11, 8, 19, 38, 17, 40, 49, 42, 146, 105, 52, 59, 106, 9, 117, 109, 65, 92, 29, 23, 74, 89, 15, 46, 52, 119, 115, 82, 128, 83, 55, 82, 135, 36, 61, 114, 28, 19, 118, 142, 77, 37, 74, 53, 9, 113, 11, 80, 102, 120, 90, 55, 120, 117, 77, 137, 53, 17, 130, 111, 107, 68, 96, 144, 14, 77, 47, 40, 103, 117, 136, 129, 30, 10, 94]\n",
      "Result: [1, 1, 2, 5, 6, 8, 9, 9, 10, 11, 11, 13, 14, 15, 17, 17, 19, 19, 19, 20, 23, 24, 25, 28, 29, 30, 36, 37, 38, 38, 40, 40, 41, 42, 42, 44, 46, 46, 47, 49, 50, 52, 52, 53, 53, 55, 55, 56, 58, 59, 61, 61, 63, 63, 65, 66, 68, 70, 74, 74, 77, 77, 77, 78, 80, 82, 82, 83, 89, 90, 90, 91, 92, 92, 94, 96, 100, 102, 102, 103, 105, 106, 107, 107, 109, 111, 113, 114, 114, 115, 117, 117, 117, 118, 118, 118, 119, 120, 120, 120, 121, 122, 122, 123, 125, 128, 129, 130, 134, 135, 135, 136, 137, 137, 138, 142, 143, 144, 146, 148, 148]\n",
      "Depth: 61\n"
     ]
    }
   ],
   "execution_count": 1385
  }
 ],
 "metadata": {
  "kernelspec": {
   "display_name": "Python 3",
   "language": "python",
   "name": "python3"
  },
  "language_info": {
   "codemirror_mode": {
    "name": "ipython",
    "version": 2
   },
   "file_extension": ".py",
   "mimetype": "text/x-python",
   "name": "python",
   "nbconvert_exporter": "python",
   "pygments_lexer": "ipython2",
   "version": "2.7.6"
  }
 },
 "nbformat": 4,
 "nbformat_minor": 5
}
